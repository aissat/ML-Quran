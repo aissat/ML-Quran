{
 "cells": [
  {
   "cell_type": "markdown",
   "metadata": {},
   "source": [
    "# Notebook on Data Analysis of the Quran\n",
    "This will mainly contain data analysis of the text of the Quran"
   ]
  },
  {
   "cell_type": "code",
   "execution_count": 1,
   "metadata": {},
   "outputs": [],
   "source": [
    "import pandas as pd\n",
    "import oj_scripts as oj\n",
    "import importlib"
   ]
  },
  {
   "cell_type": "code",
   "execution_count": 2,
   "metadata": {},
   "outputs": [
    {
     "data": {
      "text/plain": [
       "<module 'oj_scripts' from '/Users/omarjahangir/Projects/ML-Quran/oj_scripts.py'>"
      ]
     },
     "execution_count": 2,
     "metadata": {},
     "output_type": "execute_result"
    }
   ],
   "source": [
    "importlib.reload(oj)"
   ]
  },
  {
   "cell_type": "markdown",
   "metadata": {},
   "source": [
    "## Quran "
   ]
  },
  {
   "cell_type": "code",
   "execution_count": 5,
   "metadata": {},
   "outputs": [
    {
     "data": {
      "text/html": [
       "<div>\n",
       "<style scoped>\n",
       "    .dataframe tbody tr th:only-of-type {\n",
       "        vertical-align: middle;\n",
       "    }\n",
       "\n",
       "    .dataframe tbody tr th {\n",
       "        vertical-align: top;\n",
       "    }\n",
       "\n",
       "    .dataframe thead th {\n",
       "        text-align: right;\n",
       "    }\n",
       "</style>\n",
       "<table border=\"1\" class=\"dataframe\">\n",
       "  <thead>\n",
       "    <tr style=\"text-align: right;\">\n",
       "      <th></th>\n",
       "      <th>Surah Name</th>\n",
       "      <th>Surah Number</th>\n",
       "      <th>Verse Number</th>\n",
       "      <th>Verse Text</th>\n",
       "      <th>Clean Text</th>\n",
       "    </tr>\n",
       "  </thead>\n",
       "  <tbody>\n",
       "    <tr>\n",
       "      <th>0</th>\n",
       "      <td>الفاتحة</td>\n",
       "      <td>1</td>\n",
       "      <td>1</td>\n",
       "      <td>بِسْمِ اللَّهِ الرَّحْمَنِ الرَّحِيمِ</td>\n",
       "      <td>بسم الله الرحمن الرحيم</td>\n",
       "    </tr>\n",
       "    <tr>\n",
       "      <th>1</th>\n",
       "      <td>الفاتحة</td>\n",
       "      <td>1</td>\n",
       "      <td>2</td>\n",
       "      <td>الْحَمْدُ لِلَّهِ رَبِّ الْعَالَمِينَ</td>\n",
       "      <td>الحمد لله رب العالمين</td>\n",
       "    </tr>\n",
       "    <tr>\n",
       "      <th>2</th>\n",
       "      <td>الفاتحة</td>\n",
       "      <td>1</td>\n",
       "      <td>3</td>\n",
       "      <td>الرَّحْمَنِ الرَّحِيمِ</td>\n",
       "      <td>الرحمن الرحيم</td>\n",
       "    </tr>\n",
       "    <tr>\n",
       "      <th>3</th>\n",
       "      <td>الفاتحة</td>\n",
       "      <td>1</td>\n",
       "      <td>4</td>\n",
       "      <td>مَالِكِ يَوْمِ الدِّينِ</td>\n",
       "      <td>مالك يوم الدين</td>\n",
       "    </tr>\n",
       "    <tr>\n",
       "      <th>4</th>\n",
       "      <td>الفاتحة</td>\n",
       "      <td>1</td>\n",
       "      <td>5</td>\n",
       "      <td>إِيَّاكَ نَعْبُدُ وَإِيَّاكَ نَسْتَعِينُ</td>\n",
       "      <td>اياك نعبد واياك نستعين</td>\n",
       "    </tr>\n",
       "  </tbody>\n",
       "</table>\n",
       "</div>"
      ],
      "text/plain": [
       "  Surah Name  Surah Number  Verse Number  \\\n",
       "0    الفاتحة             1             1   \n",
       "1    الفاتحة             1             2   \n",
       "2    الفاتحة             1             3   \n",
       "3    الفاتحة             1             4   \n",
       "4    الفاتحة             1             5   \n",
       "\n",
       "                                 Verse Text              Clean Text  \n",
       "0     بِسْمِ اللَّهِ الرَّحْمَنِ الرَّحِيمِ  بسم الله الرحمن الرحيم  \n",
       "1     الْحَمْدُ لِلَّهِ رَبِّ الْعَالَمِينَ   الحمد لله رب العالمين  \n",
       "2                    الرَّحْمَنِ الرَّحِيمِ           الرحمن الرحيم  \n",
       "3                   مَالِكِ يَوْمِ الدِّينِ          مالك يوم الدين  \n",
       "4  إِيَّاكَ نَعْبُدُ وَإِيَّاكَ نَسْتَعِينُ  اياك نعبد واياك نستعين  "
      ]
     },
     "execution_count": 5,
     "metadata": {},
     "output_type": "execute_result"
    }
   ],
   "source": [
    "Quran_df = oj.Quran()\n",
    "\n",
    "clean = oj.cleaner(Quran_df['Verse Text'])\n",
    "Quran_df[\"Clean Text\"] = clean\n",
    "Quran_df.head()"
   ]
  },
  {
   "cell_type": "code",
   "execution_count": null,
   "metadata": {},
   "outputs": [],
   "source": []
  }
 ],
 "metadata": {
  "kernelspec": {
   "display_name": "Python 3",
   "language": "python",
   "name": "python3"
  },
  "language_info": {
   "codemirror_mode": {
    "name": "ipython",
    "version": 3
   },
   "file_extension": ".py",
   "mimetype": "text/x-python",
   "name": "python",
   "nbconvert_exporter": "python",
   "pygments_lexer": "ipython3",
   "version": "3.7.9"
  }
 },
 "nbformat": 4,
 "nbformat_minor": 4
}
